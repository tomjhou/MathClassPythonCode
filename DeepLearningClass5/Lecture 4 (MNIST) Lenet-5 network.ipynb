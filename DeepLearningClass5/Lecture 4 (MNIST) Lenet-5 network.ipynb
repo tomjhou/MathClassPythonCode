{
 "cells": [
  {
   "cell_type": "code",
   "execution_count": null,
   "id": "cb9e5e31",
   "metadata": {},
   "outputs": [],
   "source": [
    "import numpy as np\n",
    "import matplotlib.pyplot as plt \n",
    "import tensorflow as tf\n",
    "import tensorflow.keras.datasets as datasets"
   ]
  },
  {
   "cell_type": "code",
   "execution_count": null,
   "id": "71e47f89",
   "metadata": {},
   "outputs": [],
   "source": [
    "(x_train_original, y_train), (x_test_original, y_test) = datasets.mnist.load_data()"
   ]
  },
  {
   "cell_type": "code",
   "execution_count": null,
   "id": "4e76163c",
   "metadata": {},
   "outputs": [],
   "source": [
    "x_train_original.shape"
   ]
  },
  {
   "cell_type": "code",
   "execution_count": null,
   "id": "a9437f1e",
   "metadata": {
    "scrolled": true
   },
   "outputs": [],
   "source": [
    "%matplotlib inline\n",
    "id =39\n",
    "plt.imshow(x_train_original[id])"
   ]
  },
  {
   "cell_type": "code",
   "execution_count": null,
   "id": "cb5974d0",
   "metadata": {},
   "outputs": [],
   "source": [
    "if x_train_original.ndim == 3:\n",
    "    x_train = np.expand_dims(x_train_original, axis=3).astype('float32')/255\n",
    "    x_test  = np.expand_dims(x_test_original, axis=3).astype('float32')/255\n",
    "else:\n",
    "    x_train = x_train_original.astype('float32')/255\n",
    "    x_test  = x_test_original.astype('float32')/255\n",
    "    "
   ]
  },
  {
   "cell_type": "code",
   "execution_count": null,
   "id": "7b67f256",
   "metadata": {},
   "outputs": [],
   "source": [
    "#def MyModel():\n",
    "inputs = tf.keras.Input(shape = (28,28,1))\n",
    "\n",
    "X = tf.keras.layers.Conv2D(filters=6, kernel_size=(5,5), strides=1, padding='valid', \n",
    "                           data_format=\"channels_last\", activation = 'relu')(inputs)\n",
    "X = tf.keras.layers.MaxPool2D(pool_size=(2,2), strides = 2, padding='valid')(X)\n",
    "X = tf.keras.layers.Conv2D(filters=16, kernel_size=(5,5), strides=1, padding='valid', activation='relu')(X)\n",
    "X = tf.keras.layers.MaxPool2D(pool_size=(2,2), strides=2, padding='valid')(X)\n",
    "X = tf.keras.layers.Conv2D(filters=120, kernel_size=(4,4), strides=1, padding='valid', activation='relu')(X)\n",
    "X = tf.keras.layers.Flatten()(X)\n",
    "X = tf.keras.layers.Dense(units=84, activation = 'relu')(X)\n",
    "outputs = tf.keras.layers.Dense(units=10, activation = 'softmax')(X)\n",
    "myModel = tf.keras.Model(inputs=inputs, outputs = outputs, name='LeNet5')\n",
    "#    return model\n",
    "    "
   ]
  },
  {
   "cell_type": "code",
   "execution_count": null,
   "id": "fd62da97",
   "metadata": {},
   "outputs": [],
   "source": [
    "#model = MyModel()\n",
    "myModel.compile(optimizer = tf.keras.optimizers.Adam(learning_rate=0.001), \n",
    "              loss=tf.keras.losses.SparseCategoricalCrossentropy(from_logits=False),\n",
    "             metrics='accuracy')"
   ]
  },
  {
   "cell_type": "code",
   "execution_count": null,
   "id": "77859a16",
   "metadata": {},
   "outputs": [],
   "source": [
    "myModel.summary()"
   ]
  },
  {
   "cell_type": "code",
   "execution_count": null,
   "id": "2341192e",
   "metadata": {},
   "outputs": [],
   "source": [
    "myModel.fit(x=x_train, y=y_train, batch_size=256, epochs=30, verbose=2)"
   ]
  },
  {
   "cell_type": "code",
   "execution_count": null,
   "id": "9061aebd",
   "metadata": {},
   "outputs": [],
   "source": [
    "myModel.evaluate(x=x_test, y=y_test)"
   ]
  },
  {
   "cell_type": "code",
   "execution_count": null,
   "id": "8e1926fc",
   "metadata": {},
   "outputs": [],
   "source": [
    "scores = myModel.predict(x_test)"
   ]
  },
  {
   "cell_type": "code",
   "execution_count": null,
   "id": "0f89055b",
   "metadata": {},
   "outputs": [],
   "source": [
    "np.argmax(scores, axis=1)"
   ]
  },
  {
   "cell_type": "code",
   "execution_count": null,
   "id": "0b3a4378",
   "metadata": {},
   "outputs": [],
   "source": [
    "y_test"
   ]
  }
 ],
 "metadata": {
  "kernelspec": {
   "display_name": "Python 3",
   "language": "python",
   "name": "python3"
  },
  "language_info": {
   "codemirror_mode": {
    "name": "ipython",
    "version": 3
   },
   "file_extension": ".py",
   "mimetype": "text/x-python",
   "name": "python",
   "nbconvert_exporter": "python",
   "pygments_lexer": "ipython3",
   "version": "3.8.8"
  }
 },
 "nbformat": 4,
 "nbformat_minor": 5
}
