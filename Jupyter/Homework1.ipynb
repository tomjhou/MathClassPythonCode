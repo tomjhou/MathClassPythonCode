{
 "cells": [
  {
   "cell_type": "code",
   "execution_count": null,
   "id": "8479265a",
   "metadata": {},
   "outputs": [],
   "source": [
    "import numpy as np\n",
    "import pandas as pd\n",
    "import matplotlib.pyplot as plt"
   ]
  },
  {
   "cell_type": "code",
   "execution_count": null,
   "id": "51000992",
   "metadata": {},
   "outputs": [],
   "source": [
    "# Read Excel data into numpy array:\n",
    "print('Reading Excel file, please wait a few seconds ...')\n",
    "photo_array = pd.io.excel.read_excel(\"../photometry.xlsx\")\n",
    "photo_array = photo_array.to_numpy()\n",
    "\n",
    "print(f'Done reading. Obtained array with shape = {array.shape}')"
   ]
  },
  {
   "cell_type": "code",
   "execution_count": null,
   "id": "af146301",
   "metadata": {},
   "outputs": [],
   "source": [
    "# Get timestamps from column 0, and calcium values from columns 1 onward\n",
    "times = photo_array[:,0]\n",
    "calcium = photo_array[:,1:]\n",
    "\n",
    "print(f'Shape of time_values: {np.shape(times)}')\n",
    "print(f'Shape of calcium_values: {np.shape(calcium)}')"
   ]
  },
  {
   "cell_type": "code",
   "execution_count": null,
   "id": "a3e25991",
   "metadata": {},
   "outputs": [],
   "source": [
    "# Plot trials\n",
    "plt.plot(times, calcium, linewidth=0.5)\n",
    "plt.xlabel(\"Time after cue onset (s)\")\n",
    "plt.title(\"Calcium measurements for each trial\")"
   ]
  },
  {
   "cell_type": "code",
   "execution_count": null,
   "id": "7c8db83d",
   "metadata": {},
   "outputs": [],
   "source": [
    "# Plot average of all trials\n",
    "row_means = np.mean(calcium, axis = 1)\n",
    "plt.plot(times, row_means)\n",
    "\n",
    "plt.xlabel(\"Time after cue onset (s)\")\n",
    "plt.title(f\"Calcium measurements averaged across all {calcium.shape[1]} trials\")\n",
    "\n"
   ]
  }
 ],
 "metadata": {
  "kernelspec": {
   "display_name": "Python 3",
   "language": "python",
   "name": "python3"
  },
  "language_info": {
   "codemirror_mode": {
    "name": "ipython",
    "version": 3
   },
   "file_extension": ".py",
   "mimetype": "text/x-python",
   "name": "python",
   "nbconvert_exporter": "python",
   "pygments_lexer": "ipython3",
   "version": "3.8.8"
  }
 },
 "nbformat": 4,
 "nbformat_minor": 5
}
