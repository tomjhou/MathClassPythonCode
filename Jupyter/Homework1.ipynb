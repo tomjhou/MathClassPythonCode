{
 "cells": [
  {
   "cell_type": "code",
   "execution_count": null,
   "id": "feecb8f0",
   "metadata": {},
   "outputs": [],
   "source": [
    "import numpy as np\n",
    "import pandas as pd\n",
    "import matplotlib.pyplot as plt"
   ]
  },
  {
   "cell_type": "code",
   "execution_count": null,
   "id": "c47cc9aa",
   "metadata": {},
   "outputs": [],
   "source": [
    "# Read Excel into a pandas data frame\n",
    "print('Reading Excel file from github, please wait about 10 seconds ...')\n",
    "photo_frame = pd.io.excel.read_excel(\"https://github.com/tomjhou/MathClassPythonCode/blob/master/photometry.xlsx?raw=true\")\n",
    "print(f'Done reading file. Obtained array with shape {np.shape(photo_frame)}')\n"
   ]
  },
  {
   "cell_type": "code",
   "execution_count": null,
   "id": "2690a412",
   "metadata": {},
   "outputs": [],
   "source": [
    "photo_frame"
   ]
  },
  {
   "cell_type": "code",
   "execution_count": null,
   "id": "0b8d8d85",
   "metadata": {},
   "outputs": [],
   "source": [
    "\n",
    "\n",
    "# Convert to numpy array for easier indexing\n",
    "photo_array = photo_frame.to_numpy()\n",
    "\n",
    "# Extract timestamps from first column\n",
    "time_values = photo_array[:,0]\n",
    "\n",
    "# Extract calcium measurements from columns 2 until end\n",
    "calcium = photo_array[:,1:]\n",
    "\n",
    "print(f'Shape of photo_array: {np.shape(photo_array)}')\n",
    "print(f'Shape of time_values: {np.shape(time_values)}')\n",
    "print(f'Shape of calcium: {np.shape(calcium)}')"
   ]
  },
  {
   "cell_type": "code",
   "execution_count": null,
   "id": "1da9e5b5",
   "metadata": {},
   "outputs": [],
   "source": [
    "\n",
    "# Plot each trial as a separate line\n",
    "plt.plot(time_values, calcium, linewidth=0.5)\n",
    "# Add x-axis label\n",
    "plt.xlabel(\"Time after cue onset (s)\")\n",
    "# Add title\n",
    "plt.title(\"Calcium measurements for each trial\")\n",
    "\n"
   ]
  },
  {
   "cell_type": "code",
   "execution_count": null,
   "id": "0b1c218d",
   "metadata": {},
   "outputs": [],
   "source": [
    "# Now create new figure, otherwise subsequent plots will overlap previous\n",
    "# plt.figure()\n",
    "\n",
    "# Average all values for each time point\n",
    "row_means = np.mean(calcium, axis = 1)\n",
    "# Plot average across trials\n",
    "plt.plot(time_values, row_means)\n",
    "plt.xlabel(\"Time after cue onset (s)\")\n",
    "plt.title(f\"Calcium measurements averaged across all {np.shape(calcium)[1]} trials\")\n",
    "\n",
    "# If you haven't selected \"run with Python console\" option, you need this or else plot won't show.\n",
    "# plt.show()\n"
   ]
  }
 ],
 "metadata": {
  "kernelspec": {
   "display_name": "Python 3 (ipykernel)",
   "language": "python",
   "name": "python3"
  },
  "language_info": {
   "codemirror_mode": {
    "name": "ipython",
    "version": 3
   },
   "file_extension": ".py",
   "mimetype": "text/x-python",
   "name": "python",
   "nbconvert_exporter": "python",
   "pygments_lexer": "ipython3",
   "version": "3.8.10"
  }
 },
 "nbformat": 4,
 "nbformat_minor": 5
}
