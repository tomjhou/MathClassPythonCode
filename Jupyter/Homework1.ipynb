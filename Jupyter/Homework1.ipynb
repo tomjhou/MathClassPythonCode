{
 "cells": [
  {
   "cell_type": "code",
   "execution_count": null,
   "id": "8479265a",
   "metadata": {},
   "outputs": [],
   "source": [
    "import numpy as np\n",
    "import pandas as pd\n",
    "import matplotlib.pyplot as plt\n"
   ]
  },
  {
   "cell_type": "code",
   "execution_count": null,
   "id": "51000992",
   "metadata": {},
   "outputs": [],
   "source": [
    "# Read Excel into a pandas data frame\n",
    "print('Reading Excel file, please wait a few seconds ...')\n",
    "photo_frame = pd.io.excel.read_excel(\"../photometry.xlsx\")\n",
    "\n",
    "# print('Reading Excel file from github, please wait about 10-20 seconds ...')\n",
    "# photo_frame = pd.io.excel.read_excel(\"https://github.com/tomjhou/MathClassPythonCode/blob/master/photometry.xlsx?raw=true\")\n",
    "\n",
    "print(f'Done reading file. Obtained array with shape = {photo_frame.shape}')\n"
   ]
  },
  {
   "cell_type": "code",
   "execution_count": null,
   "id": "af146301",
   "metadata": {},
   "outputs": [],
   "source": [
    "\n",
    "\n",
    "# Convert to numpy array for easier indexing\n",
    "photo_array = photo_frame.to_numpy()\n",
    "\n",
    "# Extract timestamps from first column\n",
    "time_values = photo_array[:,0]\n",
    "\n",
    "# Extract calcium measurements from columns 2 until end\n",
    "calcium_values = photo_array[:,1:]\n",
    "\n",
    "print(f'Shape of photo_array: {np.shape(photo_array)}')\n",
    "print(f'Shape of time_values: {np.shape(time_values)}')\n",
    "print(f'Shape of calcium: {np.shape(calcium_values)}')"
   ]
  },
  {
   "cell_type": "code",
   "execution_count": null,
   "id": "a3e25991",
   "metadata": {},
   "outputs": [],
   "source": [
    "\n",
    "# %matplotlib qt      # Plot in separate window\n",
    "# %matplotlib inline  # Plot inline\n",
    "\n",
    "# Plot each trial as a separate line\n",
    "plt.plot(time_values, calcium_values, linewidth=0.5)\n",
    "\n",
    "# Add x-axis label\n",
    "plt.xlabel(\"Time after cue onset (s)\")\n",
    "\n",
    "# Add title\n",
    "plt.title(\"Calcium measurements for each trial\")\n",
    "\n"
   ]
  },
  {
   "cell_type": "code",
   "execution_count": null,
   "id": "7c8db83d",
   "metadata": {},
   "outputs": [],
   "source": [
    "# Average all values for each time point\n",
    "row_means = np.mean(calcium_values, axis = 1)\n",
    "\n",
    "# Plot average across trials\n",
    "plt.plot(time_values, row_means)\n",
    "\n",
    "# Titles\n",
    "plt.xlabel(\"Time after cue onset (s)\")\n",
    "plt.title(f\"Calcium measurements averaged across all {calcium_values.shape[1]} trials\")\n",
    "\n"
   ]
  }
 ],
 "metadata": {
  "kernelspec": {
   "display_name": "Python 3",
   "language": "python",
   "name": "python3"
  },
  "language_info": {
   "codemirror_mode": {
    "name": "ipython",
    "version": 3
   },
   "file_extension": ".py",
   "mimetype": "text/x-python",
   "name": "python",
   "nbconvert_exporter": "python",
   "pygments_lexer": "ipython3",
   "version": "3.8.8"
  }
 },
 "nbformat": 4,
 "nbformat_minor": 5
}
