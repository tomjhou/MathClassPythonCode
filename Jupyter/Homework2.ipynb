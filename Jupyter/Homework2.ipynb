{
 "cells": [
  {
   "cell_type": "code",
   "execution_count": null,
   "id": "06c6415a",
   "metadata": {},
   "outputs": [],
   "source": [
    "import numpy as np\n",
    "from scipy import signal\n",
    "import matplotlib.pyplot as plt\n",
    "import sounddevice as sd\n",
    "import io\n",
    "import requests\n",
    "\n",
    "# If you get error \"No module named 'sounddevice'\", please type the following into a command prompt:\n",
    "# conda install -c conda-forge python-sounddevice\n"
   ]
  },
  {
   "cell_type": "code",
   "execution_count": null,
   "id": "f478849c",
   "metadata": {},
   "outputs": [],
   "source": [
    "\n",
    "response = requests.get('https://github.com/tomjhou/MathClassPythonCode/blob/master/Class2/wav2.npy?raw=true')\n",
    "response.raise_for_status()\n",
    "\n",
    "wave = np.load(io.BytesIO(response.content))"
   ]
  },
  {
   "cell_type": "code",
   "execution_count": null,
   "id": "d9f0ae97",
   "metadata": {},
   "outputs": [],
   "source": [
    "wave"
   ]
  },
  {
   "cell_type": "code",
   "execution_count": null,
   "id": "7e9f88fe",
   "metadata": {},
   "outputs": [],
   "source": [
    "\n",
    "sampleRate = 44100\n",
    "\n",
    "# Nyquist limit is half the sample rate, i.e. 22.05kHz instead of 44.1kHz.\n",
    "nyquistRate = sampleRate / 2\n",
    "\n",
    "# Get # of samples in waveform\n",
    "len_w = len(wave)\n",
    "\n",
    "print(f'Loaded waveform with {len_w} samples = {len_w / sampleRate} seconds.')\n",
    "\n"
   ]
  },
  {
   "cell_type": "code",
   "execution_count": null,
   "id": "908aa39f",
   "metadata": {},
   "outputs": [],
   "source": [
    "print(f'Now playing through computer speaker. You should hear a piercing 2kHz tone.')\n",
    "VOLUME = 0.005\n",
    "sd.play(wave * VOLUME)\n"
   ]
  },
  {
   "cell_type": "code",
   "execution_count": null,
   "id": "d8657b5d",
   "metadata": {},
   "outputs": [],
   "source": [
    "\n",
    "# Calculate FFT of raw waveform.\n",
    "f = np.abs(np.fft.fft(wave))  # Absolute value allows us to ignore phase\n",
    "\n",
    "# plot FFT vs frequency\n",
    "freq_list = np.arange(len_w) / len_w * sampleRate   # list of frequencies\n",
    "plt.plot(freq_list, f)\n",
    "plt.title('FFT of input waveform')\n",
    "\n",
    "# Sample FFT plot as before, but with log axis, and with second\n",
    "# half deleted, as it is mirror image of first half.\n",
    "plt.figure()\n",
    "halfLen = len_w // 2    # We use // instead of /, to force result to be integer\n",
    "plt.plot(freq_list[0:halfLen], f[0:halfLen])  # Show only first half\n",
    "plt.xscale('log')\n",
    "plt.title('FFT of input, log scale')"
   ]
  },
  {
   "cell_type": "code",
   "execution_count": null,
   "id": "50df9d9d",
   "metadata": {},
   "outputs": [],
   "source": []
  }
 ],
 "metadata": {
  "kernelspec": {
   "display_name": "Python 3",
   "language": "python",
   "name": "python3"
  },
  "language_info": {
   "codemirror_mode": {
    "name": "ipython",
    "version": 3
   },
   "file_extension": ".py",
   "mimetype": "text/x-python",
   "name": "python",
   "nbconvert_exporter": "python",
   "pygments_lexer": "ipython3",
   "version": "3.8.8"
  }
 },
 "nbformat": 4,
 "nbformat_minor": 5
}
