{
 "cells": [
  {
   "cell_type": "code",
   "execution_count": 1,
   "id": "84d53631",
   "metadata": {},
   "outputs": [],
   "source": [
    "#\n",
    "# Import libraries\n",
    "#\n",
    "\n",
    "#\n",
    "# numpy, scipy, and matploblib come pre-installed with Anaconda.\n",
    "# \n",
    "# But \"sounddevice\" does not. When running for the first time, install it as follows:\n",
    "#\n",
    "# Step 1:\n",
    "# Windows: Open \"Anaconda Prompt\" from Windows start menu. (can also click the \"CMD.exe\" button in Anaconda Navigator)\n",
    "# Mac: Open the \"Terminal\" app.\n",
    "#\n",
    "# Step 2: Type the following command, and hit <Enter>:\n",
    "#\n",
    "# conda install -c conda-forge python-sounddevice\n",
    "#\n",
    "# You should see a lot of text while it installs. It may prompt you whether to proceed or not (say yes).\n",
    "# This will take about 1 minute total.\n",
    "#\n",
    "\n",
    "import numpy as np\n",
    "from scipy import signal\n",
    "import matplotlib.pyplot as plt\n",
    "import sounddevice as sd\n",
    "\n"
   ]
  },
  {
   "cell_type": "code",
   "execution_count": 2,
   "id": "a972ab61",
   "metadata": {},
   "outputs": [
    {
     "name": "stdout",
     "output_type": "stream",
     "text": [
      "Loaded waveform with 441000 samples.\n",
      "Waveform has duration 10.0 seconds.\n"
     ]
    }
   ],
   "source": [
    "#\n",
    "# Load waveform from file\n",
    "#\n",
    "\n",
    "wave = np.load('../Class2/wav2.npy')\n",
    "\n",
    "sampleRate = 44100\n",
    "\n",
    "# Report result to user\n",
    "print(f'Loaded waveform with {wave.size} samples.')\n",
    "print(f'Waveform has duration {wave.size / sampleRate} seconds.')"
   ]
  },
  {
   "cell_type": "code",
   "execution_count": 3,
   "id": "db34a69f",
   "metadata": {},
   "outputs": [
    {
     "name": "stdout",
     "output_type": "stream",
     "text": [
      "Downsampled wave consists of 110250 samples.\n"
     ]
    }
   ],
   "source": [
    "#\n",
    "# Downsample by 4x\n",
    "#\n",
    "# This reduces the size of the waveform vector, reducing by 4x the computational resources needed to filter it.\n",
    "#\n",
    "# Net result: code runs 4x faster.\n",
    "#\n",
    "\n",
    "# Downsample ratio\n",
    "DOWNSAMPLE_RATIO = 0.25\n",
    "\n",
    "# Perform downsampling\n",
    "wave = signal.resample(wave, int(wave.size * DOWNSAMPLE_RATIO))\n",
    "\n",
    "print(f'Downsampled wave consists of {wave.size} samples.')\n",
    "\n",
    "# Recalculate sample rate for later use\n",
    "sampleRate = sampleRate * DOWNSAMPLE_RATIO"
   ]
  },
  {
   "cell_type": "code",
   "execution_count": 4,
   "id": "59b740ed",
   "metadata": {},
   "outputs": [
    {
     "name": "stdout",
     "output_type": "stream",
     "text": [
      "Playing wave.\n"
     ]
    }
   ],
   "source": [
    "#\n",
    "# Play through computer speaker\n",
    "#\n",
    "\n",
    "# Normalize peak amplitude to 1. This is because audio player will clip values > 1\n",
    "wave = wave / max(wave)\n",
    "\n",
    "print(f'Playing wave.')\n",
    "VOLUME = 0.25\n",
    "sd.play(wave * VOLUME, sampleRate)"
   ]
  },
  {
   "cell_type": "code",
   "execution_count": 5,
   "id": "3ab0d590",
   "metadata": {},
   "outputs": [
    {
     "data": {
      "text/plain": [
       "Text(0, 0.5, 'Amplitude')"
      ]
     },
     "execution_count": 5,
     "metadata": {},
     "output_type": "execute_result"
    },
    {
     "data": {
      "image/png": "[encoded data removed]",
      "text/plain": [
       "<Figure size 432x288 with 1 Axes>"
      ]
     },
     "metadata": {
      "needs_background": "light"
     },
     "output_type": "display_data"
    }
   ],
   "source": [
    "\n",
    "# Calculate FFT of raw waveform.\n",
    "f = np.abs(np.fft.fft(wave))  # Absolute value allows us to ignore phase\n",
    "\n",
    "# plot FFT vs frequency\n",
    "freq_list = np.linspace(0, sampleRate, num=f.size, endpoint = False)   # list of frequencies\n",
    "plt.plot(freq_list, f)\n",
    "# plt.xscale('log')\n",
    "plt.title('Input spectrum, log scale')\n",
    "plt.xlabel('Frequency (Hz)')\n",
    "plt.ylabel('Amplitude')"
   ]
  },
  {
   "cell_type": "code",
   "execution_count": 6,
   "id": "60f17d0c",
   "metadata": {},
   "outputs": [
    {
     "name": "stdout",
     "output_type": "stream",
     "text": [
      "Calculating convolution. Might take a few seconds if filter order is large ...\n",
      "Done!\n"
     ]
    }
   ],
   "source": [
    "#\n",
    "# Implement simple (and barely adequate) low-pass filter\n",
    "#\n",
    "\n",
    "# Filter order. Larger order makes better filter, but slower.\n",
    "# This should be an odd, not even, number\n",
    "order = 101\n",
    "\n",
    "# Nyquist limit is half the sample rate\n",
    "nyquistRate = sampleRate / 2\n",
    "\n",
    "# Generate filter \"kernel\", which will be convolved with input wave\n",
    "kernel = signal.firwin(order, np.array([1500])/nyquistRate)\n",
    "\n",
    "print(f'Calculating convolution. Might take a few seconds if filter order is large ...')\n",
    "wave_Filtered = np.convolve(wave, kernel)\n",
    "\n",
    "print(f'Done!')"
   ]
  },
  {
   "cell_type": "code",
   "execution_count": 7,
   "id": "612e6955",
   "metadata": {},
   "outputs": [
    {
     "data": {
      "text/plain": [
       "[<matplotlib.lines.Line2D at 0x1cf590f7220>]"
      ]
     },
     "execution_count": 7,
     "metadata": {},
     "output_type": "execute_result"
    },
    {
     "data": {
      "image/png": "[encoded data removed]",
      "text/plain": [
       "<Figure size 432x288 with 1 Axes>"
      ]
     },
     "metadata": {
      "needs_background": "light"
     },
     "output_type": "display_data"
    }
   ],
   "source": [
    "#\n",
    "# Calculate FFT of filtered waveform.\n",
    "#\n",
    "\n",
    "# We take absolute value to convert complex numbers into real\n",
    "f_filtered = np.abs(np.fft.fft(wave_Filtered))  \n",
    "\n",
    "# Generate list of frequency values from 0 to sample rate.\n",
    "# The number of frequency values is the same as the number of waveform samples\n",
    "freq_list_filtered = np.linspace(0, sampleRate, num=f_filtered.size, endpoint = False)\n",
    "\n",
    "# plot FFT vs frequency\n",
    "plt.plot(freq_list_filtered, f_filtered)\n"
   ]
  },
  {
   "cell_type": "code",
   "execution_count": 8,
   "id": "3e0bc542",
   "metadata": {},
   "outputs": [
    {
     "name": "stdout",
     "output_type": "stream",
     "text": [
      "Playing filtered wave through computer speaker.\n"
     ]
    }
   ],
   "source": [
    "#\n",
    "# Play filtered result through computer speaker\n",
    "#\n",
    "\n",
    "print(f'Playing filtered wave through computer speaker.')\n",
    "\n",
    "# Normalize amplitude to 1, again to satisfy audio player.\n",
    "sd.play(wave_Filtered / max(wave_Filtered), sampleRate)"
   ]
  },
  {
   "cell_type": "code",
   "execution_count": null,
   "id": "26b40654",
   "metadata": {},
   "outputs": [],
   "source": []
  }
 ],
 "metadata": {
  "kernelspec": {
   "display_name": "Python 3",
   "language": "python",
   "name": "python3"
  },
  "language_info": {
   "codemirror_mode": {
    "name": "ipython",
    "version": 3
   },
   "file_extension": ".py",
   "mimetype": "text/x-python",
   "name": "python",
   "nbconvert_exporter": "python",
   "pygments_lexer": "ipython3",
   "version": "3.8.8"
  }
 },
 "nbformat": 4,
 "nbformat_minor": 5
}
