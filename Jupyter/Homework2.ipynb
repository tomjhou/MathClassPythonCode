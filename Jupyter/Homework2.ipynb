{
 "cells": [
  {
   "cell_type": "code",
   "execution_count": 2,
   "id": "06c6415a",
   "metadata": {},
   "outputs": [],
   "source": [
    "import numpy as np\n",
    "from scipy import signal\n",
    "import matplotlib.pyplot as plt\n",
    "import sounddevice as sd\n",
    "\n"
   ]
  },
  {
   "cell_type": "code",
   "execution_count": 3,
   "id": "f478849c",
   "metadata": {},
   "outputs": [],
   "source": [
    "\n",
    "wave = np.load('Class2\\wav2.npy')"
   ]
  },
  {
   "cell_type": "code",
   "execution_count": 4,
   "id": "d9f0ae97",
   "metadata": {},
   "outputs": [
    {
     "data": {
      "text/plain": [
       "array([ 0.        ,  0.00012516,  0.00048046, ..., -0.00067174,\n",
       "       -0.00024018, -0.        ], dtype=float32)"
      ]
     },
     "execution_count": 4,
     "metadata": {},
     "output_type": "execute_result"
    }
   ],
   "source": [
    "wave"
   ]
  },
  {
   "cell_type": "code",
   "execution_count": 5,
   "id": "7e9f88fe",
   "metadata": {},
   "outputs": [
    {
     "name": "stdout",
     "output_type": "stream",
     "text": [
      "Loaded waveform with 441000 samples = 10.0 seconds.\n",
      "Now playing through computer speaker. You should hear a piercing tone.\n"
     ]
    }
   ],
   "source": [
    "\n",
    "sampleRate = 44100\n",
    "\n",
    "# Nyquist limit is half the sample rate, i.e. 22.05kHz instead of 44.1kHz.\n",
    "nyquistRate = sampleRate / 2\n",
    "\n",
    "# Get # of samples in waveform\n",
    "len_w = len(wave)\n",
    "\n",
    "print(f'Loaded waveform with {len_w} samples = {len_w / sampleRate} seconds.')\n",
    "print(f'Now playing through computer speaker. You should hear a piercing tone.')\n",
    "\n",
    "sd.play(wave)\n"
   ]
  },
  {
   "cell_type": "code",
   "execution_count": 6,
   "id": "d8657b5d",
   "metadata": {},
   "outputs": [
    {
     "data": {
      "text/plain": [
       "Text(0.5, 1.0, 'FFT of input, log scale')"
      ]
     },
     "execution_count": 6,
     "metadata": {},
     "output_type": "execute_result"
    },
    {
     "data": {
      "image/png": "[encoded data removed]",
      "text/plain": [
       "<Figure size 432x288 with 1 Axes>"
      ]
     },
     "metadata": {
      "needs_background": "light"
     },
     "output_type": "display_data"
    },
    {
     "data": {
      "image/png": "[encoded data removed]",
      "text/plain": [
       "<Figure size 432x288 with 1 Axes>"
      ]
     },
     "metadata": {
      "needs_background": "light"
     },
     "output_type": "display_data"
    }
   ],
   "source": [
    "\n",
    "# Calculate FFT of raw waveform.\n",
    "f = np.abs(np.fft.fft(wave))  # Absolute value allows us to ignore phase\n",
    "\n",
    "# plot FFT vs frequency\n",
    "freq_list = np.arange(len_w) / len_w * sampleRate   # list of frequencies\n",
    "plt.plot(freq_list, f)\n",
    "plt.title('FFT of input waveform')\n",
    "\n",
    "# Sample FFT plot as before, but with log axis, and with second\n",
    "# half deleted, as it is mirror image of first half.\n",
    "plt.figure()\n",
    "halfLen = len_w // 2    # We use // instead of /, to force result to be integer\n",
    "plt.plot(freq_list[0:halfLen], f[0:halfLen])  # Show only first half\n",
    "plt.xscale('log')\n",
    "plt.title('FFT of input, log scale')"
   ]
  },
  {
   "cell_type": "code",
   "execution_count": null,
   "id": "50df9d9d",
   "metadata": {},
   "outputs": [],
   "source": []
  }
 ],
 "metadata": {
  "kernelspec": {
   "display_name": "Python 3 (ipykernel)",
   "language": "python",
   "name": "python3"
  },
  "language_info": {
   "codemirror_mode": {
    "name": "ipython",
    "version": 3
   },
   "file_extension": ".py",
   "mimetype": "text/x-python",
   "name": "python",
   "nbconvert_exporter": "python",
   "pygments_lexer": "ipython3",
   "version": "3.8.10"
  }
 },
 "nbformat": 4,
 "nbformat_minor": 5
}
