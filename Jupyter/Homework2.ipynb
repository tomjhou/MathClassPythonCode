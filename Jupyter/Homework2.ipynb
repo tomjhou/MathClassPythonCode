{
 "cells": [
  {
   "cell_type": "code",
   "execution_count": null,
   "metadata": {},
   "outputs": [],
   "source": [
    "import numpy as np\n",
    "from scipy import signal\n",
    "import matplotlib.pyplot as plt\n",
    "import sounddevice as sd\n",
    "\n",
    "# If you get error \"No module named 'sounddevice'\", please type the following into a command prompt:\n",
    "# conda install -c conda-forge python-sounddevice\n"
   ]
  },
  {
   "cell_type": "code",
   "execution_count": null,
   "metadata": {},
   "outputs": [],
   "source": [
    "wave = np.load('..\\\\Class2\\\\wav2.npy')\n",
    "\n",
    "# Normalize peak amplitude to 1\n",
    "wave = wave / max(wave)"
   ]
  },
  {
   "cell_type": "code",
   "execution_count": null,
   "metadata": {
    "scrolled": true
   },
   "outputs": [],
   "source": [
    "wave"
   ]
  },
  {
   "cell_type": "code",
   "execution_count": null,
   "metadata": {},
   "outputs": [],
   "source": [
    "\n",
    "sampleRate = 44100\n",
    "\n",
    "# Get # of samples in waveform\n",
    "wave_samples = len(wave)\n",
    "\n",
    "num_seconds = wave_samples / sampleRate\n",
    "\n",
    "print(f'Loaded waveform with {wave_samples} samples = {num_seconds} seconds.')\n",
    "\n"
   ]
  },
  {
   "cell_type": "code",
   "execution_count": null,
   "metadata": {},
   "outputs": [],
   "source": [
    "# Downsample from 44.1kHz to 10kHz, so that filters will run faster\n",
    "sampleRate2 = 10000\n",
    "wave_samples2 = wave_samples * sampleRate2 // sampleRate   # Double slash // forces integer output\n",
    "wave2 = signal.resample(wave, wave_samples2)\n",
    "\n",
    "# Nyquist limit is half the sample rate\n",
    "nyquistRate = sampleRate2 / 2\n",
    "\n",
    "\n",
    "print(f'Downsampled waveform to {len(wave2)} samples = {wave_samples / sampleRate} seconds.')\n",
    "\n",
    "print(f'Now playing downsampled wave. Should sound exactly the same.')\n",
    "sd.play(wave2 * VOLUME, sampleRate2)"
   ]
  },
  {
   "cell_type": "code",
   "execution_count": null,
   "metadata": {},
   "outputs": [],
   "source": [
    "\n",
    "# Calculate FFT of raw waveform.\n",
    "f = np.abs(np.fft.fft(wave2))  # Absolute value allows us to ignore phase\n",
    "\n",
    "# plot FFT vs frequency\n",
    "freq_list = np.linspace(0, sampleRate2, num=f.size, endpoint = False)   # list of frequencies\n",
    "plt.plot(freq_list, f)\n",
    "# plt.xscale('log')\n",
    "plt.title('Input spectrum, log scale')\n",
    "plt.xlabel('Frequency (Hz)')\n",
    "plt.ylabel('Amplitude')"
   ]
  },
  {
   "cell_type": "code",
   "execution_count": null,
   "metadata": {},
   "outputs": [],
   "source": [
    "order = 101  # Recommend odd filter order.\n",
    "print(f'Calculating convolution. Might take a few seconds if filter order is large ...')\n",
    "w = signal.firwin(order, np.array([1500])/nyquistRate)\n",
    "wave_Filtered = np.convolve(wave2, w)\n",
    "print(f'Done!')"
   ]
  },
  {
   "cell_type": "code",
   "execution_count": null,
   "metadata": {},
   "outputs": [],
   "source": [
    "print(f'Now playing through computer speaker. You should hear a piercing 2kHz tone.')\n",
    "\n",
    "# Normalize amplitude to 1\n",
    "sd.play(wave_Filtered / max(wave_Filtered), sampleRate2)"
   ]
  },
  {
   "cell_type": "code",
   "execution_count": null,
   "metadata": {},
   "outputs": [],
   "source": [
    "# Calculate FFT of filtered waveform.\n",
    "f_filtered = np.abs(np.fft.fft(wave_Filtered))  # Absolute value allows us to ignore phase\n",
    "\n",
    "# plot FFT vs frequency\n",
    "freq_list_filtered = np.linspace(0, sampleRate2, num=f_filtered.size, endpoint = False)\n",
    "plt.plot(freq_list_filtered, f_filtered)"
   ]
  }
 ],
 "metadata": {
  "kernelspec": {
   "display_name": "Python 3",
   "language": "python",
   "name": "python3"
  },
  "language_info": {
   "codemirror_mode": {
    "name": "ipython",
    "version": 3
   },
   "file_extension": ".py",
   "mimetype": "text/x-python",
   "name": "python",
   "nbconvert_exporter": "python",
   "pygments_lexer": "ipython3",
   "version": "3.8.3"
  }
 },
 "nbformat": 4,
 "nbformat_minor": 5
}
