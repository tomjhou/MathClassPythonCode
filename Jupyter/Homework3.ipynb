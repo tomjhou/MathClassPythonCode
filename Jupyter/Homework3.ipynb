{
 "cells": [
  {
   "cell_type": "code",
   "execution_count": null,
   "id": "84d53631",
   "metadata": {},
   "outputs": [],
   "source": [
    "#\n",
    "# Import libraries\n",
    "#\n",
    "\n",
    "#\n",
    "# numpy, scipy, and matploblib come pre-installed with Anaconda.\n",
    "# \n",
    "# But \"sounddevice\" does not. When running for the first time, install it as follows:\n",
    "#\n",
    "# Step 1:\n",
    "# Windows: Open \"Anaconda Prompt\" from Windows start menu. (can also click the \"CMD.exe\" button in Anaconda Navigator)\n",
    "# Mac: Open the \"Terminal\" app.\n",
    "#\n",
    "# Step 2: Type the following command, and hit <Enter>:\n",
    "#\n",
    "# conda install -c conda-forge python-sounddevice\n",
    "#\n",
    "# You should see a lot of text while it installs. It may prompt you whether to proceed or not (say yes).\n",
    "# This will take about 1 minute total.\n",
    "#\n",
    "\n",
    "import numpy as np\n",
    "from scipy import signal\n",
    "import matplotlib.pyplot as plt\n",
    "import sounddevice as sd\n",
    "\n",
    "import time"
   ]
  },
  {
   "cell_type": "code",
   "execution_count": null,
   "id": "a972ab61",
   "metadata": {},
   "outputs": [],
   "source": [
    "#\n",
    "# Load waveform from file\n",
    "#\n",
    "\n",
    "wave = np.load('../Class2/wav2.npy')\n",
    "\n",
    "print(f'Loaded waveform with {wave.size} samples.')\n",
    "\n",
    "# Downsample by 4x, so code will run faster.\n",
    "RESAMPLE_RATIO = 0.25\n",
    "\n",
    "wave = signal.resample(wave, int(wave.size * RESAMPLE_RATIO))\n",
    "\n",
    "\n",
    "# Normalize amplitude to 1 because audio player clip values > 1\n",
    "wave = wave / max(wave)\n",
    "plt.plot(wave)\n",
    "plt.title('Input waveform')\n",
    "\n",
    "plt.figure()\n",
    "r = range(1000, 1250)\n",
    "plt.plot(r, wave[r])\n",
    "plt.title('Subregion of input waveform starting at sample 1000')\n",
    "\n",
    "sampleRate = 44100 * RESAMPLE_RATIO\n",
    "print(f'Downsampled 4x to {wave.size} samples with sample rate {sampleRate}.')\n",
    "print(f'Audio duration is {wave.size / sampleRate} seconds.')"
   ]
  },
  {
   "cell_type": "code",
   "execution_count": null,
   "id": "59b740ed",
   "metadata": {},
   "outputs": [],
   "source": [
    "#\n",
    "# Play through computer speaker\n",
    "#\n",
    "\n",
    "\n",
    "print(f'Playing wave.')\n",
    "VOLUME = 0.25\n",
    "sd.play(wave * VOLUME, sampleRate)"
   ]
  },
  {
   "cell_type": "code",
   "execution_count": null,
   "id": "3ab0d590",
   "metadata": {},
   "outputs": [],
   "source": [
    "# Calculate and plot FFT\n",
    "f = np.fft.fft(wave)  # Absolute value allows us to ignore phase\n",
    "\n",
    "# plot FFT vs frequency\n",
    "freq_list = np.linspace(0, sampleRate, num=f.size, endpoint = False)   # list of frequencies\n",
    "plt.plot(freq_list, np.abs(f))\n",
    "\n",
    "plt.title('FFT of input audio')\n",
    "plt.xlabel('Frequency (Hz)')\n",
    "plt.ylabel('Amplitude')"
   ]
  },
  {
   "cell_type": "code",
   "execution_count": null,
   "id": "60f17d0c",
   "metadata": {},
   "outputs": [],
   "source": [
    "###################################################################################################\n",
    "#\n",
    "# PLEASE PLACE YOUR SOLUTION IN THIS CELL. YOUR SOLUTION WILL REQUIRE CHANGING THE VALUES OF F\n",
    "#\n",
    "###################################################################################################\n",
    "\n",
    "\n",
    "\n",
    "\n",
    "\n",
    "\n"
   ]
  },
  {
   "cell_type": "code",
   "execution_count": null,
   "id": "510f8bc9",
   "metadata": {},
   "outputs": [],
   "source": [
    "#\n",
    "# Plot revised f values\n",
    "#\n",
    "\n",
    "plt.plot(np.abs(f))\n",
    "plt.title('Revised FFT values')\n",
    "\n",
    "#\n",
    "# Calculate inverse fft\n",
    "\n",
    "wave2 = np.fft.ifft(f)\n",
    "wave2 = np.real(wave2)\n",
    "\n",
    "plt.figure()\n",
    "plt.plot(wave2)\n",
    "plt.title('Revised audio waveform')"
   ]
  },
  {
   "cell_type": "code",
   "execution_count": null,
   "id": "3e0bc542",
   "metadata": {},
   "outputs": [],
   "source": [
    "#\n",
    "# Play filtered result through computer speaker\n",
    "#\n",
    "\n",
    "print(f'Playing filtered wave through computer speaker.')\n",
    "\n",
    "\n",
    "# Normalize amplitude to 1, again to satisfy audio player.\n",
    "wave2 = wave2 / max(wave2)\n",
    "sd.play(wave2, sampleRate)\n"
   ]
  },
  {
   "cell_type": "code",
   "execution_count": null,
   "id": "26b40654",
   "metadata": {},
   "outputs": [],
   "source": []
  }
 ],
 "metadata": {
  "kernelspec": {
   "display_name": "Python 3 (ipykernel)",
   "language": "python",
   "name": "python3"
  },
  "language_info": {
   "codemirror_mode": {
    "name": "ipython",
    "version": 3
   },
   "file_extension": ".py",
   "mimetype": "text/x-python",
   "name": "python",
   "nbconvert_exporter": "python",
   "pygments_lexer": "ipython3",
   "version": "3.9.7"
  }
 },
 "nbformat": 4,
 "nbformat_minor": 5
}
