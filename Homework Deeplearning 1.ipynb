{
 "cells": [
  {
   "cell_type": "code",
   "execution_count": null,
   "id": "cb9e5e31",
   "metadata": {},
   "outputs": [],
   "source": [
    "import numpy as np\n",
    "import matplotlib.pyplot as plt \n",
    "import tensorflow as tf\n",
    "import tensorflow.keras.datasets as datasets"
   ]
  },
  {
   "cell_type": "code",
   "execution_count": null,
   "id": "71e47f89",
   "metadata": {},
   "outputs": [],
   "source": [
    "(x_train_original, y_train_original), (x_test_original, y_test_original) = datasets.mnist.load_data()"
   ]
  },
  {
   "cell_type": "code",
   "execution_count": null,
   "id": "4e76163c",
   "metadata": {},
   "outputs": [],
   "source": [
    "print(x_train_original.shape)\n",
    "print(y_train_original.shape)"
   ]
  },
  {
   "cell_type": "code",
   "execution_count": null,
   "id": "a9437f1e",
   "metadata": {
    "scrolled": true
   },
   "outputs": [],
   "source": [
    "%matplotlib inline\n",
    "# Here check the images of 0th, 9th and 19th image"
   ]
  },
  {
   "cell_type": "code",
   "execution_count": null,
   "id": "cb5974d0",
   "metadata": {},
   "outputs": [],
   "source": [
    "N_train = x_train_original.shape[0]\n",
    "N_test  = x_test_original.shape[0]\n",
    "\n",
    "x_train = (x_train_original.reshape(N_train, -1).astype('float32')/255).T\n",
    "x_test  = (x_test_original.reshape(N_test, -1).astype('float32')/255).T\n",
    "\n",
    "Din = x_train.shape[0]\n",
    "Dout = np.max(y_train_original)+1\n",
    "\n",
    "y_train = y_train_original.reshape(1,N_train)\n",
    "y_test  = y_test_original.reshape(1,N_test)\n",
    "y_train_onehot = np.eye(Dout)[:,y_train.reshape(-1)]\n",
    "y_test_onehot  = np.eye(Dout)[:,y_train.reshape(-1)]"
   ]
  },
  {
   "cell_type": "code",
   "execution_count": null,
   "id": "bb5049d1",
   "metadata": {},
   "outputs": [],
   "source": [
    "print(x_train.shape)\n",
    "print(x_test.shape)\n",
    "print(y_train.shape)\n",
    "print(y_test.shape)\n",
    "print(y_train_onehot.shape)\n",
    "print(y_test_onehot.shape)\n",
    "print(y_train[:,23])\n",
    "print(y_train_onehot[:,23])"
   ]
  },
  {
   "cell_type": "code",
   "execution_count": null,
   "id": "6850ad4e",
   "metadata": {},
   "outputs": [],
   "source": [
    "np.random.seed(0)\n",
    "W = np.random.randn(Dout, Din)*0.01\n",
    "b = np.random.randn(Dout,1)"
   ]
  },
  {
   "cell_type": "code",
   "execution_count": null,
   "id": "cdb55992",
   "metadata": {},
   "outputs": [],
   "source": [
    "#Check the scores for x_train[:,0]"
   ]
  },
  {
   "cell_type": "code",
   "execution_count": null,
   "id": "502433e2",
   "metadata": {},
   "outputs": [],
   "source": [
    "#Check the prediction of the first 10 images (x_train[:,0:9])"
   ]
  },
  {
   "cell_type": "code",
   "execution_count": null,
   "id": "deeb32e4",
   "metadata": {},
   "outputs": [],
   "source": [
    "for t in range(1000):\n",
    "    print('t=', str(t))\n",
    "    score = np.matmul(W,x_train) + b\n",
    "    y_pred = np.exp(score) / np.sum(np.exp(score), axis=0, keepdims=True)\n",
    "    \n",
    "    log_likelihood = -np.log(y_pred[y_train.reshape(-1), range(N_train)])\n",
    "    dw = np.matmul(y_pred-y_train_onehot, x_train.T)/N_train\n",
    "    db = np.sum(y_pred-y_train_onehot, axis=1, keepdims=True)/N_train\n",
    "    \n",
    "    W -= dw * 0.01\n",
    "    b -= db * 0.01\n",
    "    \n"
   ]
  },
  {
   "cell_type": "code",
   "execution_count": null,
   "id": "8ecda2c3",
   "metadata": {},
   "outputs": [],
   "source": [
    "#Check the prediction of the first 10 images (x_train[:,0:9])"
   ]
  },
  {
   "cell_type": "code",
   "execution_count": null,
   "id": "6983ad70",
   "metadata": {},
   "outputs": [],
   "source": []
  },
  {
   "cell_type": "code",
   "execution_count": null,
   "id": "583c8534",
   "metadata": {},
   "outputs": [],
   "source": []
  },
  {
   "cell_type": "code",
   "execution_count": null,
   "id": "3ace2984",
   "metadata": {},
   "outputs": [],
   "source": []
  },
  {
   "cell_type": "code",
   "execution_count": null,
   "id": "8ade4e65",
   "metadata": {},
   "outputs": [],
   "source": []
  }
 ],
 "metadata": {
  "kernelspec": {
   "display_name": "Python 3",
   "language": "python",
   "name": "python3"
  },
  "language_info": {
   "codemirror_mode": {
    "name": "ipython",
    "version": 3
   },
   "file_extension": ".py",
   "mimetype": "text/x-python",
   "name": "python",
   "nbconvert_exporter": "python",
   "pygments_lexer": "ipython3",
   "version": "3.8.8"
  }
 },
 "nbformat": 4,
 "nbformat_minor": 5
}
