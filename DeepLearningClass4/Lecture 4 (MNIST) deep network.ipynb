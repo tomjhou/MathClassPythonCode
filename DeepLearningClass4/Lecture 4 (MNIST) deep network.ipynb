{
 "cells": [
  {
   "cell_type": "code",
   "execution_count": null,
   "id": "cb9e5e31",
   "metadata": {},
   "outputs": [],
   "source": [
    "import numpy as np\n",
    "import matplotlib.pyplot as plt \n",
    "import tensorflow as tf\n",
    "import tensorflow.keras.datasets as datasets"
   ]
  },
  {
   "cell_type": "code",
   "execution_count": null,
   "id": "71e47f89",
   "metadata": {},
   "outputs": [],
   "source": [
    "(x_train_original, y_train), (x_test_original, y_test) = datasets.mnist.load_data()"
   ]
  },
  {
   "cell_type": "code",
   "execution_count": null,
   "id": "4e76163c",
   "metadata": {},
   "outputs": [],
   "source": [
    "x_train_original.shape"
   ]
  },
  {
   "cell_type": "code",
   "execution_count": null,
   "id": "a9437f1e",
   "metadata": {
    "scrolled": true
   },
   "outputs": [],
   "source": [
    "%matplotlib inline\n",
    "id =39\n",
    "plt.imshow(x_train_original[id])"
   ]
  },
  {
   "cell_type": "code",
   "execution_count": null,
   "id": "cb5974d0",
   "metadata": {},
   "outputs": [],
   "source": [
    "NofTraining = x_train_original.shape[0]\n",
    "NofTest = x_test_original.shape[0]\n",
    "x_train = x_train_original.reshape(NofTraining, -1).astype('float32')/255\n",
    "x_test  = x_test_original.reshape(NofTest, -1).astype('float32')/255\n",
    "NofPixelsInImage = x_train.shape[1]"
   ]
  },
  {
   "cell_type": "code",
   "execution_count": null,
   "id": "d2184672",
   "metadata": {},
   "outputs": [],
   "source": [
    "NofPixelsInImage"
   ]
  },
  {
   "cell_type": "code",
   "execution_count": null,
   "id": "7b67f256",
   "metadata": {},
   "outputs": [],
   "source": [
    "#def MyModel():\n",
    "inputs = tf.keras.Input(shape = (NofPixelsInImage))\n",
    "X = tf.keras.layers.Dense(100, activation = 'relu')(inputs)\n",
    "outputs = tf.keras.layers.Dense(10, activation = 'softmax')(X)\n",
    "myModel = tf.keras.Model(inputs=inputs, outputs = outputs, name='Two layers')\n",
    "#    return model\n",
    "    "
   ]
  },
  {
   "cell_type": "code",
   "execution_count": null,
   "id": "fd62da97",
   "metadata": {},
   "outputs": [],
   "source": [
    "#model = MyModel()\n",
    "myModel.compile(optimizer = tf.keras.optimizers.Adam(learning_rate=0.001), \n",
    "              loss=tf.keras.losses.SparseCategoricalCrossentropy(from_logits=False),\n",
    "             metrics='accuracy')"
   ]
  },
  {
   "cell_type": "code",
   "execution_count": null,
   "id": "77859a16",
   "metadata": {},
   "outputs": [],
   "source": [
    "myModel.summary()"
   ]
  },
  {
   "cell_type": "code",
   "execution_count": null,
   "id": "2341192e",
   "metadata": {},
   "outputs": [],
   "source": [
    "myModel.fit(x=x_train, y=y_train, batch_size=256, epochs=100, verbose=2)"
   ]
  },
  {
   "cell_type": "code",
   "execution_count": null,
   "id": "9061aebd",
   "metadata": {},
   "outputs": [],
   "source": [
    "myModel.evaluate(x=x_test, y=y_test)"
   ]
  },
  {
   "cell_type": "code",
   "execution_count": null,
   "id": "8e1926fc",
   "metadata": {},
   "outputs": [],
   "source": [
    "scores = myModel.predict(x_test)"
   ]
  },
  {
   "cell_type": "code",
   "execution_count": null,
   "id": "0f89055b",
   "metadata": {},
   "outputs": [],
   "source": [
    "np.argmax(scores, axis=1)"
   ]
  },
  {
   "cell_type": "code",
   "execution_count": null,
   "id": "0b3a4378",
   "metadata": {},
   "outputs": [],
   "source": [
    "y_test"
   ]
  }
 ],
 "metadata": {
  "kernelspec": {
   "display_name": "Python 3",
   "language": "python",
   "name": "python3"
  },
  "language_info": {
   "codemirror_mode": {
    "name": "ipython",
    "version": 3
   },
   "file_extension": ".py",
   "mimetype": "text/x-python",
   "name": "python",
   "nbconvert_exporter": "python",
   "pygments_lexer": "ipython3",
   "version": "3.8.8"
  }
 },
 "nbformat": 4,
 "nbformat_minor": 5
}
